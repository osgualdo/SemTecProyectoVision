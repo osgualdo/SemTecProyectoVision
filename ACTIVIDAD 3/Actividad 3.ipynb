{
 "cells": [
  {
   "cell_type": "code",
   "execution_count": 2,
   "id": "568be13d",
   "metadata": {},
   "outputs": [],
   "source": [
    "import pickle\n",
    "\n",
    "import numpy as np\n",
    "\n",
    "from sklearn.metrics import classification_report\n",
    "from sklearn.model_selection import train_test_split\n",
    "\n",
    "from keras.models import Sequential\n",
    "from keras.layers import Dense\n",
    "from keras.utils import to_categorical\n",
    "\n",
    "from keras.layers import Dense, Flatten\n",
    "from keras.layers import Conv2D, MaxPooling2D"
   ]
  },
  {
   "cell_type": "code",
   "execution_count": 3,
   "id": "31eccdcc",
   "metadata": {},
   "outputs": [
    {
     "name": "stdout",
     "output_type": "stream",
     "text": [
      "Imagenes cargadas: 2530\n"
     ]
    }
   ],
   "source": [
    "with open('preprocessed_emojis.pkl', 'rb') as f:\n",
    "    preprocessed_emojis = pickle.load(f)\n",
    "\n",
    "print (f'Imagenes cargadas: {len(preprocessed_emojis)}')"
   ]
  },
  {
   "cell_type": "code",
   "execution_count": 4,
   "id": "60942035",
   "metadata": {},
   "outputs": [
    {
     "name": "stdout",
     "output_type": "stream",
     "text": [
      "Forma de X: (2530, 1024)\n",
      "Forma de y: (2530,)\n"
     ]
    }
   ],
   "source": [
    "# Organiza los datos en matrices numpy\n",
    "labels = ['Angry', 'Happy', 'Poo', 'Sad', 'Surprised']\n",
    "\n",
    "X = np.array([img.flatten() for img, label in preprocessed_emojis])\n",
    "y = np.array([labels.index(label) for img, label in preprocessed_emojis])\n",
    "\n",
    "print(\"Forma de X:\", X.shape)\n",
    "print(\"Forma de y:\", y.shape)"
   ]
  },
  {
   "cell_type": "code",
   "execution_count": 5,
   "id": "0677254e",
   "metadata": {},
   "outputs": [
    {
     "name": "stdout",
     "output_type": "stream",
     "text": [
      "Forma de X_train: (2024, 1024)\n",
      "Forma de y_train: (2024, 5)\n",
      "Forma de X_test: (506, 1024)\n",
      "Forma de y_test: (506, 5)\n"
     ]
    }
   ],
   "source": [
    "# Divide los datos en conjunto de entrenamiento y prueba\n",
    "X_train, X_test, y_train, y_test = train_test_split(X, y, test_size=0.2, stratify=y)\n",
    "y_train_cat = to_categorical(y_train, num_classes=len(labels))\n",
    "y_test_cat = to_categorical(y_test, num_classes=len(labels))\n",
    "\n",
    "print(\"Forma de X_train:\", X_train.shape)\n",
    "print(\"Forma de y_train:\", y_train_cat.shape)\n",
    "print(\"Forma de X_test:\", X_test.shape)\n",
    "print(\"Forma de y_test:\", y_test_cat.shape)"
   ]
  },
  {
   "cell_type": "code",
   "execution_count": 6,
   "id": "d0694771",
   "metadata": {},
   "outputs": [
    {
     "name": "stderr",
     "output_type": "stream",
     "text": [
      "c:\\Users\\oswal\\AppData\\Local\\Programs\\Python\\Python313\\Lib\\site-packages\\keras\\src\\layers\\core\\dense.py:92: UserWarning: Do not pass an `input_shape`/`input_dim` argument to a layer. When using Sequential models, prefer using an `Input(shape)` object as the first layer in the model instead.\n",
      "  super().__init__(activity_regularizer=activity_regularizer, **kwargs)\n"
     ]
    },
    {
     "name": "stdout",
     "output_type": "stream",
     "text": [
      "Epoch 1/20\n",
      "\u001b[1m51/51\u001b[0m \u001b[32m━━━━━━━━━━━━━━━━━━━━\u001b[0m\u001b[37m\u001b[0m \u001b[1m2s\u001b[0m 13ms/step - accuracy: 0.4429 - loss: 8.7241 - val_accuracy: 0.5358 - val_loss: 2.5445\n",
      "Epoch 2/20\n",
      "\u001b[1m51/51\u001b[0m \u001b[32m━━━━━━━━━━━━━━━━━━━━\u001b[0m\u001b[37m\u001b[0m \u001b[1m0s\u001b[0m 7ms/step - accuracy: 0.6461 - loss: 1.4880 - val_accuracy: 0.5852 - val_loss: 2.0429\n",
      "Epoch 3/20\n",
      "\u001b[1m51/51\u001b[0m \u001b[32m━━━━━━━━━━━━━━━━━━━━\u001b[0m\u001b[37m\u001b[0m \u001b[1m0s\u001b[0m 7ms/step - accuracy: 0.7634 - loss: 0.7036 - val_accuracy: 0.6370 - val_loss: 1.6406\n",
      "Epoch 4/20\n",
      "\u001b[1m51/51\u001b[0m \u001b[32m━━━━━━━━━━━━━━━━━━━━\u001b[0m\u001b[37m\u001b[0m \u001b[1m0s\u001b[0m 7ms/step - accuracy: 0.8567 - loss: 0.4119 - val_accuracy: 0.6296 - val_loss: 1.4451\n",
      "Epoch 5/20\n",
      "\u001b[1m51/51\u001b[0m \u001b[32m━━━━━━━━━━━━━━━━━━━━\u001b[0m\u001b[37m\u001b[0m \u001b[1m0s\u001b[0m 6ms/step - accuracy: 0.9098 - loss: 0.2660 - val_accuracy: 0.6593 - val_loss: 1.4761\n",
      "Epoch 6/20\n",
      "\u001b[1m51/51\u001b[0m \u001b[32m━━━━━━━━━━━━━━━━━━━━\u001b[0m\u001b[37m\u001b[0m \u001b[1m0s\u001b[0m 6ms/step - accuracy: 0.9419 - loss: 0.1617 - val_accuracy: 0.6716 - val_loss: 1.4288\n",
      "Epoch 7/20\n",
      "\u001b[1m51/51\u001b[0m \u001b[32m━━━━━━━━━━━━━━━━━━━━\u001b[0m\u001b[37m\u001b[0m \u001b[1m0s\u001b[0m 7ms/step - accuracy: 0.9666 - loss: 0.1232 - val_accuracy: 0.6790 - val_loss: 1.4169\n",
      "Epoch 8/20\n",
      "\u001b[1m51/51\u001b[0m \u001b[32m━━━━━━━━━━━━━━━━━━━━\u001b[0m\u001b[37m\u001b[0m \u001b[1m0s\u001b[0m 7ms/step - accuracy: 0.9765 - loss: 0.1013 - val_accuracy: 0.6988 - val_loss: 1.4275\n",
      "Epoch 9/20\n",
      "\u001b[1m51/51\u001b[0m \u001b[32m━━━━━━━━━━━━━━━━━━━━\u001b[0m\u001b[37m\u001b[0m \u001b[1m0s\u001b[0m 6ms/step - accuracy: 0.9778 - loss: 0.0815 - val_accuracy: 0.6790 - val_loss: 1.4385\n",
      "Epoch 10/20\n",
      "\u001b[1m51/51\u001b[0m \u001b[32m━━━━━━━━━━━━━━━━━━━━\u001b[0m\u001b[37m\u001b[0m \u001b[1m0s\u001b[0m 6ms/step - accuracy: 0.9852 - loss: 0.0614 - val_accuracy: 0.6790 - val_loss: 1.4689\n",
      "Epoch 11/20\n",
      "\u001b[1m51/51\u001b[0m \u001b[32m━━━━━━━━━━━━━━━━━━━━\u001b[0m\u001b[37m\u001b[0m \u001b[1m0s\u001b[0m 5ms/step - accuracy: 0.9864 - loss: 0.0542 - val_accuracy: 0.6667 - val_loss: 1.5425\n",
      "Epoch 12/20\n",
      "\u001b[1m51/51\u001b[0m \u001b[32m━━━━━━━━━━━━━━━━━━━━\u001b[0m\u001b[37m\u001b[0m \u001b[1m0s\u001b[0m 6ms/step - accuracy: 0.9876 - loss: 0.0495 - val_accuracy: 0.6938 - val_loss: 1.5301\n",
      "Epoch 13/20\n",
      "\u001b[1m51/51\u001b[0m \u001b[32m━━━━━━━━━━━━━━━━━━━━\u001b[0m\u001b[37m\u001b[0m \u001b[1m0s\u001b[0m 6ms/step - accuracy: 0.9858 - loss: 0.0439 - val_accuracy: 0.6938 - val_loss: 1.5091\n",
      "Epoch 14/20\n",
      "\u001b[1m51/51\u001b[0m \u001b[32m━━━━━━━━━━━━━━━━━━━━\u001b[0m\u001b[37m\u001b[0m \u001b[1m0s\u001b[0m 6ms/step - accuracy: 0.9895 - loss: 0.0428 - val_accuracy: 0.6889 - val_loss: 1.5900\n",
      "Epoch 15/20\n",
      "\u001b[1m51/51\u001b[0m \u001b[32m━━━━━━━━━━━━━━━━━━━━\u001b[0m\u001b[37m\u001b[0m \u001b[1m0s\u001b[0m 6ms/step - accuracy: 0.9895 - loss: 0.0413 - val_accuracy: 0.6988 - val_loss: 1.5844\n",
      "Epoch 16/20\n",
      "\u001b[1m51/51\u001b[0m \u001b[32m━━━━━━━━━━━━━━━━━━━━\u001b[0m\u001b[37m\u001b[0m \u001b[1m0s\u001b[0m 6ms/step - accuracy: 0.9883 - loss: 0.0400 - val_accuracy: 0.7086 - val_loss: 1.5765\n",
      "Epoch 17/20\n",
      "\u001b[1m51/51\u001b[0m \u001b[32m━━━━━━━━━━━━━━━━━━━━\u001b[0m\u001b[37m\u001b[0m \u001b[1m0s\u001b[0m 5ms/step - accuracy: 0.9883 - loss: 0.0480 - val_accuracy: 0.7037 - val_loss: 1.5178\n",
      "Epoch 18/20\n",
      "\u001b[1m51/51\u001b[0m \u001b[32m━━━━━━━━━━━━━━━━━━━━\u001b[0m\u001b[37m\u001b[0m \u001b[1m0s\u001b[0m 5ms/step - accuracy: 0.9883 - loss: 0.0404 - val_accuracy: 0.6988 - val_loss: 1.5187\n",
      "Epoch 19/20\n",
      "\u001b[1m51/51\u001b[0m \u001b[32m━━━━━━━━━━━━━━━━━━━━\u001b[0m\u001b[37m\u001b[0m \u001b[1m0s\u001b[0m 6ms/step - accuracy: 0.9876 - loss: 0.0411 - val_accuracy: 0.7037 - val_loss: 1.5116\n",
      "Epoch 20/20\n",
      "\u001b[1m51/51\u001b[0m \u001b[32m━━━━━━━━━━━━━━━━━━━━\u001b[0m\u001b[37m\u001b[0m \u001b[1m0s\u001b[0m 5ms/step - accuracy: 0.9852 - loss: 0.0483 - val_accuracy: 0.6889 - val_loss: 1.5173\n",
      "\u001b[1m16/16\u001b[0m \u001b[32m━━━━━━━━━━━━━━━━━━━━\u001b[0m\u001b[37m\u001b[0m \u001b[1m0s\u001b[0m 7ms/step\n",
      "              precision    recall  f1-score   support\n",
      "\n",
      "       Angry       0.52      0.49      0.50       101\n",
      "       Happy       0.81      0.66      0.72       102\n",
      "         Poo       0.99      0.98      0.99       101\n",
      "         Sad       0.46      0.59      0.52       101\n",
      "   Surprised       0.73      0.71      0.72       101\n",
      "\n",
      "    accuracy                           0.69       506\n",
      "   macro avg       0.70      0.69      0.69       506\n",
      "weighted avg       0.70      0.69      0.69       506\n",
      "\n"
     ]
    }
   ],
   "source": [
    "# Con las imágenes binarias, ajusta un modelo MLP y evalúa su rendimiento.\n",
    "model = Sequential()\n",
    "model.add(Dense(128, activation='relu', input_shape=(X_train.shape[1],)))\n",
    "model.add(Dense(64, activation='relu'))\n",
    "model.add(Dense(len(labels), activation='softmax'))\n",
    "model.compile(optimizer='adam', loss='categorical_crossentropy', metrics=['accuracy'])\n",
    "model.fit(X_train, y_train_cat, epochs=20, batch_size=32, validation_split=0.2)\n",
    "y_pred = model.predict(X_test)\n",
    "y_pred_classes = np.argmax(y_pred, axis=1)\n",
    "print(classification_report(y_test, y_pred_classes, target_names=labels))"
   ]
  },
  {
   "cell_type": "code",
   "execution_count": 9,
   "id": "60f7f1d6",
   "metadata": {},
   "outputs": [
    {
     "name": "stdout",
     "output_type": "stream",
     "text": [
      "Epoch 1/20\n",
      "\u001b[1m51/51\u001b[0m \u001b[32m━━━━━━━━━━━━━━━━━━━━\u001b[0m\u001b[37m\u001b[0m \u001b[1m3s\u001b[0m 20ms/step - accuracy: 0.4670 - loss: 2.7092 - val_accuracy: 0.5901 - val_loss: 0.9583\n",
      "Epoch 2/20\n",
      "\u001b[1m51/51\u001b[0m \u001b[32m━━━━━━━━━━━━━━━━━━━━\u001b[0m\u001b[37m\u001b[0m \u001b[1m1s\u001b[0m 14ms/step - accuracy: 0.7529 - loss: 0.6893 - val_accuracy: 0.7802 - val_loss: 0.5562\n",
      "Epoch 3/20\n",
      "\u001b[1m51/51\u001b[0m \u001b[32m━━━━━━━━━━━━━━━━━━━━\u001b[0m\u001b[37m\u001b[0m \u001b[1m1s\u001b[0m 14ms/step - accuracy: 0.8561 - loss: 0.4035 - val_accuracy: 0.8321 - val_loss: 0.4561\n",
      "Epoch 4/20\n",
      "\u001b[1m51/51\u001b[0m \u001b[32m━━━━━━━━━━━━━━━━━━━━\u001b[0m\u001b[37m\u001b[0m \u001b[1m1s\u001b[0m 14ms/step - accuracy: 0.8999 - loss: 0.2912 - val_accuracy: 0.8543 - val_loss: 0.3783\n",
      "Epoch 5/20\n",
      "\u001b[1m51/51\u001b[0m \u001b[32m━━━━━━━━━━━━━━━━━━━━\u001b[0m\u001b[37m\u001b[0m \u001b[1m1s\u001b[0m 13ms/step - accuracy: 0.9284 - loss: 0.2081 - val_accuracy: 0.8593 - val_loss: 0.3662\n",
      "Epoch 6/20\n",
      "\u001b[1m51/51\u001b[0m \u001b[32m━━━━━━━━━━━━━━━━━━━━\u001b[0m\u001b[37m\u001b[0m \u001b[1m1s\u001b[0m 13ms/step - accuracy: 0.9487 - loss: 0.1555 - val_accuracy: 0.9062 - val_loss: 0.3110\n",
      "Epoch 7/20\n",
      "\u001b[1m51/51\u001b[0m \u001b[32m━━━━━━━━━━━━━━━━━━━━\u001b[0m\u001b[37m\u001b[0m \u001b[1m1s\u001b[0m 13ms/step - accuracy: 0.9697 - loss: 0.1103 - val_accuracy: 0.9086 - val_loss: 0.2789\n",
      "Epoch 8/20\n",
      "\u001b[1m51/51\u001b[0m \u001b[32m━━━━━━━━━━━━━━━━━━━━\u001b[0m\u001b[37m\u001b[0m \u001b[1m1s\u001b[0m 14ms/step - accuracy: 0.9759 - loss: 0.0905 - val_accuracy: 0.9037 - val_loss: 0.2909\n",
      "Epoch 9/20\n",
      "\u001b[1m51/51\u001b[0m \u001b[32m━━━━━━━━━━━━━━━━━━━━\u001b[0m\u001b[37m\u001b[0m \u001b[1m1s\u001b[0m 14ms/step - accuracy: 0.9759 - loss: 0.0773 - val_accuracy: 0.9062 - val_loss: 0.2843\n",
      "Epoch 10/20\n",
      "\u001b[1m51/51\u001b[0m \u001b[32m━━━━━━━━━━━━━━━━━━━━\u001b[0m\u001b[37m\u001b[0m \u001b[1m1s\u001b[0m 14ms/step - accuracy: 0.9827 - loss: 0.0606 - val_accuracy: 0.8815 - val_loss: 0.3582\n",
      "Epoch 11/20\n",
      "\u001b[1m51/51\u001b[0m \u001b[32m━━━━━━━━━━━━━━━━━━━━\u001b[0m\u001b[37m\u001b[0m \u001b[1m1s\u001b[0m 14ms/step - accuracy: 0.9827 - loss: 0.0559 - val_accuracy: 0.9086 - val_loss: 0.2921\n",
      "Epoch 12/20\n",
      "\u001b[1m51/51\u001b[0m \u001b[32m━━━━━━━━━━━━━━━━━━━━\u001b[0m\u001b[37m\u001b[0m \u001b[1m1s\u001b[0m 13ms/step - accuracy: 0.9895 - loss: 0.0442 - val_accuracy: 0.9086 - val_loss: 0.3367\n",
      "Epoch 13/20\n",
      "\u001b[1m51/51\u001b[0m \u001b[32m━━━━━━━━━━━━━━━━━━━━\u001b[0m\u001b[37m\u001b[0m \u001b[1m1s\u001b[0m 13ms/step - accuracy: 0.9895 - loss: 0.0348 - val_accuracy: 0.9086 - val_loss: 0.3223\n",
      "Epoch 14/20\n",
      "\u001b[1m51/51\u001b[0m \u001b[32m━━━━━━━━━━━━━━━━━━━━\u001b[0m\u001b[37m\u001b[0m \u001b[1m1s\u001b[0m 13ms/step - accuracy: 0.9883 - loss: 0.0332 - val_accuracy: 0.9111 - val_loss: 0.3161\n",
      "Epoch 15/20\n",
      "\u001b[1m51/51\u001b[0m \u001b[32m━━━━━━━━━━━━━━━━━━━━\u001b[0m\u001b[37m\u001b[0m \u001b[1m1s\u001b[0m 13ms/step - accuracy: 0.9889 - loss: 0.0300 - val_accuracy: 0.9136 - val_loss: 0.3229\n",
      "Epoch 16/20\n",
      "\u001b[1m51/51\u001b[0m \u001b[32m━━━━━━━━━━━━━━━━━━━━\u001b[0m\u001b[37m\u001b[0m \u001b[1m1s\u001b[0m 13ms/step - accuracy: 0.9895 - loss: 0.0296 - val_accuracy: 0.9111 - val_loss: 0.3442\n",
      "Epoch 17/20\n",
      "\u001b[1m51/51\u001b[0m \u001b[32m━━━━━━━━━━━━━━━━━━━━\u001b[0m\u001b[37m\u001b[0m \u001b[1m1s\u001b[0m 13ms/step - accuracy: 0.9889 - loss: 0.0283 - val_accuracy: 0.9235 - val_loss: 0.3406\n",
      "Epoch 18/20\n",
      "\u001b[1m51/51\u001b[0m \u001b[32m━━━━━━━━━━━━━━━━━━━━\u001b[0m\u001b[37m\u001b[0m \u001b[1m1s\u001b[0m 13ms/step - accuracy: 0.9889 - loss: 0.0322 - val_accuracy: 0.9160 - val_loss: 0.3370\n",
      "Epoch 19/20\n",
      "\u001b[1m51/51\u001b[0m \u001b[32m━━━━━━━━━━━━━━━━━━━━\u001b[0m\u001b[37m\u001b[0m \u001b[1m1s\u001b[0m 14ms/step - accuracy: 0.9932 - loss: 0.0243 - val_accuracy: 0.9062 - val_loss: 0.3550\n",
      "Epoch 20/20\n",
      "\u001b[1m51/51\u001b[0m \u001b[32m━━━━━━━━━━━━━━━━━━━━\u001b[0m\u001b[37m\u001b[0m \u001b[1m1s\u001b[0m 14ms/step - accuracy: 0.9907 - loss: 0.0223 - val_accuracy: 0.9086 - val_loss: 0.4200\n",
      "\u001b[1m16/16\u001b[0m \u001b[32m━━━━━━━━━━━━━━━━━━━━\u001b[0m\u001b[37m\u001b[0m \u001b[1m0s\u001b[0m 12ms/step\n",
      "              precision    recall  f1-score   support\n",
      "\n",
      "       Angry       0.87      0.72      0.79       101\n",
      "       Happy       0.98      0.86      0.92       102\n",
      "         Poo       0.99      1.00      1.00       101\n",
      "         Sad       0.74      0.89      0.81       101\n",
      "   Surprised       0.89      0.96      0.92       101\n",
      "\n",
      "    accuracy                           0.89       506\n",
      "   macro avg       0.89      0.89      0.89       506\n",
      "weighted avg       0.89      0.89      0.89       506\n",
      "\n"
     ]
    }
   ],
   "source": [
    "# Ajusta y evalúa una CNN para las imágenes binarias\n",
    "X_train_cnn = X_train.reshape(-1, 32, 32, 1)\n",
    "X_test_cnn = X_test.reshape(-1, 32, 32, 1)\n",
    "model_cnn = Sequential()\n",
    "model_cnn.add(Conv2D(32, (3, 3), activation='relu', input_shape=(32, 32, 1)))\n",
    "model_cnn.add(MaxPooling2D((2, 2)))\n",
    "model_cnn.add(Conv2D(64, (3, 3), activation='relu'))\n",
    "model_cnn.add(MaxPooling2D((2, 2)))\n",
    "model_cnn.add(Flatten())\n",
    "model_cnn.add(Dense(64, activation='relu'))\n",
    "model_cnn.add(Dense(len(labels), activation='softmax'))\n",
    "model_cnn.compile(optimizer='adam', loss='categorical_crossentropy', metrics=['accuracy'])\n",
    "model_cnn.fit(X_train_cnn, y_train_cat, epochs=20, batch_size=32, validation_split=0.2)\n",
    "y_pred_cnn = model_cnn.predict(X_test_cnn)\n",
    "y_pred_classes_cnn = np.argmax(y_pred_cnn, axis=1)\n",
    "print(classification_report(y_test, y_pred_classes_cnn, target_names=labels))"
   ]
  },
  {
   "cell_type": "code",
   "execution_count": 11,
   "id": "4ce67b46",
   "metadata": {},
   "outputs": [
    {
     "name": "stdout",
     "output_type": "stream",
     "text": [
      "Trainable params: 166661\n",
      "Non-trainable params: 0.0\n"
     ]
    }
   ],
   "source": [
    "# Mostrar los parametros entrenables y no entrenables de la CNN\n",
    "trainable_count = np.sum([np.prod(v.shape) for v in model_cnn.trainable_weights])\n",
    "non_trainable_count = np.sum([np.prod(v.shape) for v in model_cnn.non_trainable_weights])\n",
    "print(f'Trainable params: {trainable_count}')\n",
    "print(f'Non-trainable params: {non_trainable_count}')"
   ]
  },
  {
   "cell_type": "code",
   "execution_count": 12,
   "id": "e04b767d",
   "metadata": {},
   "outputs": [
    {
     "data": {
      "image/png": "[encoded data removed]",
      "text/plain": [
       "<Figure size 900x900 with 9 Axes>"
      ]
     },
     "metadata": {},
     "output_type": "display_data"
    }
   ],
   "source": [
    "# Realizar predicciones con la CNN y mostrar algunas imágenes con sus predicciones\n",
    "import matplotlib.pyplot as plt\n",
    "fig, axes = plt.subplots(3, 3, figsize=(9, 9))\n",
    "for i, ax in enumerate(axes.flat):\n",
    "    ax.imshow(X_test_cnn[i].reshape(32, 32), cmap='gray')\n",
    "    ax.set_title(f'True: {labels[y_test[i]]}\\nPred: {labels[y_pred_classes_cnn[i]]}')\n",
    "    ax.axis('off')\n",
    "plt.tight_layout()\n",
    "plt.show()"
   ]
  }
 ],
 "metadata": {
  "kernelspec": {
   "display_name": "Python 3",
   "language": "python",
   "name": "python3"
  },
  "language_info": {
   "codemirror_mode": {
    "name": "ipython",
    "version": 3
   },
   "file_extension": ".py",
   "mimetype": "text/x-python",
   "name": "python",
   "nbconvert_exporter": "python",
   "pygments_lexer": "ipython3",
   "version": "3.13.7"
  }
 },
 "nbformat": 4,
 "nbformat_minor": 5
}
